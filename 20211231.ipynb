{
  "nbformat": 4,
  "nbformat_minor": 0,
  "metadata": {
    "colab": {
      "name": "20211231.ipynb",
      "private_outputs": true,
      "provenance": [],
      "collapsed_sections": [],
      "authorship_tag": "ABX9TyPp+QtGuhp7YVpBaJbWQye2",
      "include_colab_link": true
    },
    "kernelspec": {
      "name": "python3",
      "display_name": "Python 3"
    },
    "language_info": {
      "name": "python"
    },
    "accelerator": "GPU"
  },
  "cells": [
    {
      "cell_type": "markdown",
      "metadata": {
        "id": "view-in-github",
        "colab_type": "text"
      },
      "source": [
        "<a href=\"https://colab.research.google.com/github/cloveropen/blood/blob/master/20211231.ipynb\" target=\"_parent\"><img src=\"https://colab.research.google.com/assets/colab-badge.svg\" alt=\"Open In Colab\"/></a>"
      ]
    },
    {
      "cell_type": "code",
      "execution_count": null,
      "metadata": {
        "id": "N4efvVrxP5Iv"
      },
      "outputs": [],
      "source": [
        "!pip list"
      ]
    },
    {
      "cell_type": "code",
      "source": [
        "!python -m pip install 'git+https://github.com/facebookresearch/detectron2.git'"
      ],
      "metadata": {
        "id": "iF-cMI1fRhhw"
      },
      "execution_count": null,
      "outputs": []
    },
    {
      "cell_type": "code",
      "source": [
        "!python -m pip install 'git+https://github.com/facebookresearch/mobile-vision.git'"
      ],
      "metadata": {
        "id": "8-TG-GyoSbQG"
      },
      "execution_count": null,
      "outputs": []
    },
    {
      "cell_type": "code",
      "source": [
        "!git clone https://github.com/facebookresearch/d2go"
      ],
      "metadata": {
        "id": "vpGG1CRpSp3d"
      },
      "execution_count": null,
      "outputs": []
    },
    {
      "cell_type": "code",
      "source": [
        "!cp ./configs /usr/local/lib/python3.7/dist-packages/d2go -r"
      ],
      "metadata": {
        "id": "EuXEc5BATKUl"
      },
      "execution_count": null,
      "outputs": []
    },
    {
      "cell_type": "code",
      "source": [
        "%cd .."
      ],
      "metadata": {
        "id": "Lb73J25X2qFB"
      },
      "execution_count": null,
      "outputs": []
    },
    {
      "cell_type": "code",
      "source": [
        "!cp ./d2go/configs ./d2go/d2go -r"
      ],
      "metadata": {
        "id": "d0fUrID8S0It"
      },
      "execution_count": null,
      "outputs": []
    },
    {
      "cell_type": "code",
      "source": [
        "!pip install 'git+https://github.com/facebookresearch/d2go.git'"
      ],
      "metadata": {
        "id": "uXpAdJ4xS_Wa"
      },
      "execution_count": null,
      "outputs": []
    },
    {
      "cell_type": "code",
      "source": [
        "from d2go.model_zoo import model_zoo\n",
        "import pkg_resources\n",
        "import os\n",
        "\n",
        "cfg_file = pkg_resources.resource_filename(\"d2go\", os.path.join(\"configs\", \"2332\"))\n",
        "print(\"cfg_file\",cfg_file)\n",
        "model = model_zoo.get('mask_rcnn_fbnetv3g_fpn.yaml', trained=True)"
      ],
      "metadata": {
        "id": "WxUvxbYNTOed"
      },
      "execution_count": null,
      "outputs": []
    },
    {
      "cell_type": "code",
      "source": [
        "import cv2\n",
        "from matplotlib import pyplot as plt\n",
        "!wget http://images.cocodataset.org/val2017/000000439715.jpg -q -O input.jpg\n",
        "im = cv2.imread(\"./input.jpg\")\n",
        "plt.imshow(im)"
      ],
      "metadata": {
        "id": "9ZFrCCj0u0-0"
      },
      "execution_count": null,
      "outputs": []
    },
    {
      "cell_type": "code",
      "source": [
        "from d2go.utils.demo_predictor import DemoPredictor\n",
        "predictor = DemoPredictor(model)\n",
        "outputs = predictor(im)\n",
        "# the output object categories and corresponding bounding boxes\n",
        "print(outputs[\"instances\"].pred_classes)\n",
        "print(outputs[\"instances\"].scores)"
      ],
      "metadata": {
        "id": "feEaHGV6u78P"
      },
      "execution_count": null,
      "outputs": []
    },
    {
      "cell_type": "code",
      "source": [
        "from detectron2.utils.visualizer import Visualizer\n",
        "from detectron2.data import MetadataCatalog, DatasetCatalog\n",
        "\n",
        "v = Visualizer(im[:, :, ::-1], MetadataCatalog.get(\"coco_2017_train\"))\n",
        "out = v.draw_instance_predictions(outputs[\"instances\"].to(\"cpu\"))\n",
        "plt.figure(figsize = (20, 15))\n",
        "plt.imshow(out.get_image()[:, :, ::-1])"
      ],
      "metadata": {
        "id": "_DVwyp9MvPbe"
      },
      "execution_count": null,
      "outputs": []
    },
    {
      "cell_type": "code",
      "source": [
        "# download, decompress the data\n",
        "!wget https://github.com/matterport/Mask_RCNN/releases/download/v2.1/balloon_dataset.zip\n",
        "!unzip -o balloon_dataset.zip > /dev/null"
      ],
      "metadata": {
        "id": "LP3ef1XuvXJe"
      },
      "execution_count": null,
      "outputs": []
    },
    {
      "cell_type": "code",
      "source": [
        "# if your dataset is in COCO format, this cell can be replaced by the following three lines:\n",
        "# from detectron2.data.datasets import register_coco_instances\n",
        "# register_coco_instances(\"my_dataset_train\", {}, \"json_annotation_train.json\", \"path/to/image/dir\")\n",
        "# register_coco_instances(\"my_dataset_val\", {}, \"json_annotation_val.json\", \"path/to/image/dir\")\n",
        "import os\n",
        "import json\n",
        "import numpy as np\n",
        "from detectron2.structures import BoxMode\n",
        "\n",
        "def get_balloon_dicts(img_dir):\n",
        "    json_file = os.path.join(img_dir, \"via_region_data.json\")\n",
        "    with open(json_file) as f:\n",
        "        imgs_anns = json.load(f)\n",
        "\n",
        "    dataset_dicts = []\n",
        "    for idx, v in enumerate(imgs_anns.values()):\n",
        "        record = {}\n",
        "        \n",
        "        filename = os.path.join(img_dir, v[\"filename\"])\n",
        "        height, width = cv2.imread(filename).shape[:2]\n",
        "        \n",
        "        record[\"file_name\"] = filename\n",
        "        record[\"image_id\"] = idx\n",
        "        record[\"height\"] = height\n",
        "        record[\"width\"] = width\n",
        "      \n",
        "        annos = v[\"regions\"]\n",
        "        objs = []\n",
        "        for _, anno in annos.items():\n",
        "            assert not anno[\"region_attributes\"]\n",
        "            anno = anno[\"shape_attributes\"]\n",
        "            px = anno[\"all_points_x\"]\n",
        "            py = anno[\"all_points_y\"]\n",
        "            poly = [(x + 0.5, y + 0.5) for x, y in zip(px, py)]\n",
        "            poly = [p for x in poly for p in x]\n",
        "\n",
        "            obj = {\n",
        "                \"bbox\": [np.min(px), np.min(py), np.max(px), np.max(py)],\n",
        "                \"bbox_mode\": BoxMode.XYXY_ABS,\n",
        "                \"segmentation\": [poly],\n",
        "                \"category_id\": 0,\n",
        "            }\n",
        "            objs.append(obj)\n",
        "        record[\"annotations\"] = objs\n",
        "        dataset_dicts.append(record)\n",
        "    return dataset_dicts\n",
        "\n",
        "for d in [\"train\", \"val\"]:\n",
        "    DatasetCatalog.register(\"balloon_\" + d, lambda d=d: get_balloon_dicts(\"balloon/\" + d))\n",
        "    MetadataCatalog.get(\"balloon_\" + d).set(thing_classes=[\"balloon\"], evaluator_type=\"coco\")\n",
        "balloon_metadata = MetadataCatalog.get(\"balloon_train\")"
      ],
      "metadata": {
        "id": "aGF0qXnev0vi"
      },
      "execution_count": null,
      "outputs": []
    },
    {
      "cell_type": "code",
      "source": [
        "import random\n",
        "\n",
        "dataset_dicts = get_balloon_dicts(\"balloon/train\")\n",
        "for d in random.sample(dataset_dicts, 3):\n",
        "    img = cv2.imread(d[\"file_name\"])\n",
        "    visualizer = Visualizer(img[:, :, ::-1], metadata=balloon_metadata, scale=0.5)\n",
        "    out = visualizer.draw_dataset_dict(d)\n",
        "    plt.figure()\n",
        "    plt.imshow(out.get_image()[:, :, ::-1])"
      ],
      "metadata": {
        "id": "h_8Ymbdsv7ua"
      },
      "execution_count": null,
      "outputs": []
    },
    {
      "cell_type": "code",
      "source": [
        "for d in [\"train\", \"val\"]:\n",
        "    MetadataCatalog.get(\"balloon_\" + d).set(thing_classes=[\"balloon\"], evaluator_type=\"coco\")"
      ],
      "metadata": {
        "id": "ASjYDZ3RwAFU"
      },
      "execution_count": null,
      "outputs": []
    },
    {
      "cell_type": "code",
      "source": [
        "from d2go.runner import GeneralizedRCNNRunner\n",
        "\n",
        "\n",
        "def prepare_for_launch():\n",
        "    runner = GeneralizedRCNNRunner()\n",
        "    cfg = runner.get_default_cfg()\n",
        "    cfg.merge_from_file(model_zoo.get_config_file(\"faster_rcnn_fbnetv3a_C4.yaml\"))\n",
        "    cfg.MODEL_EMA.ENABLED = False\n",
        "    cfg.DATASETS.TRAIN = (\"balloon_train\",)\n",
        "    cfg.DATASETS.TEST = (\"balloon_val\",)\n",
        "    cfg.DATALOADER.NUM_WORKERS = 2\n",
        "    cfg.MODEL.WEIGHTS = model_zoo.get_checkpoint_url(\"faster_rcnn_fbnetv3a_C4.yaml\")  # Let training initialize from model zoo\n",
        "    cfg.SOLVER.IMS_PER_BATCH = 2\n",
        "    cfg.SOLVER.BASE_LR = 0.00020  # pick a good LR\n",
        "    cfg.SOLVER.MAX_ITER = 1200    # 600 iterations seems good enough for this toy dataset; you will need to train longer for a practical dataset\n",
        "    cfg.SOLVER.STEPS = []        # do not decay learning rate\n",
        "    cfg.MODEL.ROI_HEADS.BATCH_SIZE_PER_IMAGE = 128   # faster, and good enough for this toy dataset (default: 512)\n",
        "    cfg.MODEL.ROI_HEADS.NUM_CLASSES = 1  # only has one class (ballon). (see https://detectron2.readthedocs.io/tutorials/datasets.html#update-the-config-for-new-datasets)\n",
        "    # NOTE: this config means the number of classes, but a few popular unofficial tutorials incorrect uses num_classes+1 here.\n",
        "    os.makedirs(cfg.OUTPUT_DIR, exist_ok=True)\n",
        "    return cfg, runner\n",
        "\n",
        "cfg, runner = prepare_for_launch()\n",
        "model = runner.build_model(cfg)\n",
        "runner.do_train(cfg, model, resume=False)"
      ],
      "metadata": {
        "id": "fXyvfgBjwFJ4"
      },
      "execution_count": null,
      "outputs": []
    },
    {
      "cell_type": "code",
      "source": [
        "metrics = runner.do_test(cfg, model)"
      ],
      "metadata": {
        "id": "uzj8yaDFwLgS"
      },
      "execution_count": null,
      "outputs": []
    },
    {
      "cell_type": "code",
      "source": [
        "print(metrics)"
      ],
      "metadata": {
        "id": "HDJR_QQ0wNoa"
      },
      "execution_count": null,
      "outputs": []
    },
    {
      "cell_type": "code",
      "source": [
        "import copy\n",
        "from detectron2.data import build_detection_test_loader\n",
        "from d2go.export.api import convert_and_export_predictor\n",
        "from d2go.export.d2_meta_arch import patch_d2_meta_arch\n",
        "\n",
        "import logging\n",
        "\n",
        "# disable all the warnings\n",
        "previous_level = logging.root.manager.disable\n",
        "logging.disable(logging.INFO)\n",
        "\n",
        "patch_d2_meta_arch()\n",
        "\n",
        "pytorch_model = runner.build_model(cfg, eval_only=True)\n",
        "pytorch_model.cpu()\n",
        "\n",
        "datasets = cfg.DATASETS.TRAIN[0]\n",
        "data_loader = runner.build_detection_test_loader(cfg, datasets)\n",
        "\n",
        "predictor_path = convert_and_export_predictor(\n",
        "  copy.deepcopy(cfg),\n",
        "  copy.deepcopy(pytorch_model),\n",
        "  \"torchscript@tracing\",\n",
        "  './',\n",
        "  data_loader\n",
        ")\n",
        "\n",
        "# recover the logging level\n",
        "logging.disable(previous_level)"
      ],
      "metadata": {
        "id": "FeqO_PZswUGZ"
      },
      "execution_count": null,
      "outputs": []
    },
    {
      "cell_type": "code",
      "source": [
        "from mobile_cv.predictor.api import create_predictor\n",
        "from d2go.utils.demo_predictor import DemoPredictor\n",
        "\n",
        "model = create_predictor(predictor_path)\n",
        "predictor = DemoPredictor(model)\n",
        "\n",
        "dataset_dicts = DatasetCatalog.get('balloon_val')\n",
        "for d in random.sample(dataset_dicts, 3):    \n",
        "    im = cv2.imread(d[\"file_name\"])\n",
        "    outputs = predictor(im)\n",
        "    print(outputs)\n",
        "    v = Visualizer(im[:, :, ::-1], metadata=balloon_metadata, scale=0.8)\n",
        "    v = v.draw_instance_predictions(outputs[\"instances\"].to(\"cpu\"))\n",
        "    plt.figure(figsize = (60, 45))\n",
        "    plt.imshow(cv2.cvtColor(v.get_image()[:, :, ::-1], cv2.COLOR_BGR2RGB))\n",
        "    plt.show()"
      ],
      "metadata": {
        "id": "sKlRKWWmwZBs"
      },
      "execution_count": null,
      "outputs": []
    },
    {
      "cell_type": "code",
      "source": [
        "from d2go.utils.demo_predictor import DemoPredictor\n",
        "predictor = DemoPredictor(model)\n",
        "outputs = predictor(im)\n",
        "print(outputs)\n",
        "v = Visualizer(im[:, :, ::-1], MetadataCatalog.get(\"coco_2017_train\"))\n",
        "out = v.draw_instance_predictions(outputs[\"instances\"].to(\"cpu\"))\n",
        "plt.figure(figsize = (60, 45))\n",
        "plt.imshow(out.get_image()[:, :, ::-1])"
      ],
      "metadata": {
        "id": "6PVA6o5UwZv5"
      },
      "execution_count": null,
      "outputs": []
    }
  ]
}